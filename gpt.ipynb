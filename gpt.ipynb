{
 "cells": [
  {
   "cell_type": "code",
   "execution_count": null,
   "id": "832d5e6c",
   "metadata": {},
   "outputs": [
    {
     "name": "stderr",
     "output_type": "stream",
     "text": [
      "d:\\Study Material\\Applied Data Science And  AI Specilization\\Generative AI\\URL_Scraper\\urlScraper\\Lib\\site-packages\\tqdm\\auto.py:21: TqdmWarning: IProgress not found. Please update jupyter and ipywidgets. See https://ipywidgets.readthedocs.io/en/stable/user_install.html\n",
      "  from .autonotebook import tqdm as notebook_tqdm\n",
      "d:\\Study Material\\Applied Data Science And  AI Specilization\\Generative AI\\URL_Scraper\\urlScraper\\Lib\\site-packages\\huggingface_hub\\file_download.py:143: UserWarning: `huggingface_hub` cache-system uses symlinks by default to efficiently store duplicated files but your machine does not support them in C:\\Users\\Fiaz Khan\\.cache\\huggingface\\hub\\models--gpt2. Caching files will still work but in a degraded version that might require more space on your disk. This warning can be disabled by setting the `HF_HUB_DISABLE_SYMLINKS_WARNING` environment variable. For more details, see https://huggingface.co/docs/huggingface_hub/how-to-cache#limitations.\n",
      "To support symlinks on Windows, you either need to activate Developer Mode or to run Python as an administrator. In order to activate developer mode, see this article: https://docs.microsoft.com/en-us/windows/apps/get-started/enable-your-device-for-development\n",
      "  warnings.warn(message)\n",
      "Xet Storage is enabled for this repo, but the 'hf_xet' package is not installed. Falling back to regular HTTP download. For better performance, install the package with: `pip install huggingface_hub[hf_xet]` or `pip install hf_xet`\n"
     ]
    }
   ],
   "source": [
    "from transformers import pipeline\n",
    "\n",
    "# Create a text‑generation pipeline using GPT‑2\n",
    "generator = pipeline(\n",
    "    \"text-generation\",\n",
    "    model=\"gpt2\",           # or \"gpt2-medium\", \"gpt2-large\", etc.\n",
    "    tokenizer=\"gpt2\",\n",
    "    device=0                # set to -1 for CPU, or GPU index\n",
    ")\n",
    "\n",
    "# Generate text\n",
    "prompt = \"Once upon a time in a distant galaxy,\"\n",
    "outputs = generator(\n",
    "    prompt,\n",
    "    max_length=100,         # total length = prompt tokens + generated tokens\n",
    "    num_return_sequences=2,\n",
    "    do_sample=True,         # enable sampling (otherwise greedy)\n",
    "    top_k=50,               # sample from top 50 tokens\n",
    "    temperature=0.7         # soften the distribution\n",
    ")\n",
    "\n",
    "for i, out in enumerate(outputs):\n",
    "    print(f\"=== Generated #{i+1} ===\")\n",
    "    print(out[\"generated_text\"])\n",
    "    print()\n"
   ]
  },
  {
   "cell_type": "code",
   "execution_count": null,
   "id": "cfc65dde",
   "metadata": {},
   "outputs": [],
   "source": []
  }
 ],
 "metadata": {
  "kernelspec": {
   "display_name": "urlScraper",
   "language": "python",
   "name": "python3"
  },
  "language_info": {
   "codemirror_mode": {
    "name": "ipython",
    "version": 3
   },
   "file_extension": ".py",
   "mimetype": "text/x-python",
   "name": "python",
   "nbconvert_exporter": "python",
   "pygments_lexer": "ipython3",
   "version": "3.11.0"
  }
 },
 "nbformat": 4,
 "nbformat_minor": 5
}
